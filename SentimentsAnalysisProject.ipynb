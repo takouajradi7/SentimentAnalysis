{
  "nbformat": 4,
  "nbformat_minor": 0,
  "metadata": {
    "colab": {
      "provenance": []
    },
    "kernelspec": {
      "name": "python3",
      "display_name": "Python 3"
    },
    "language_info": {
      "name": "python"
    }
  },
  "cells": [
    {
      "cell_type": "markdown",
      "source": [
        "# **Packages Import**\n",
        "\n"
      ],
      "metadata": {
        "id": "cndWrpGUnsbC"
      }
    },
    {
      "cell_type": "code",
      "execution_count": null,
      "metadata": {
        "colab": {
          "base_uri": "https://localhost:8080/"
        },
        "id": "ppOksJv0k1Ck",
        "outputId": "d3fe41f5-4499-4408-c688-e28b97007acd"
      },
      "outputs": [
        {
          "output_type": "stream",
          "name": "stderr",
          "text": [
            "[nltk_data] Downloading package stopwords to /root/nltk_data...\n",
            "[nltk_data]   Package stopwords is already up-to-date!\n"
          ]
        },
        {
          "output_type": "execute_result",
          "data": {
            "text/plain": [
              "True"
            ]
          },
          "metadata": {},
          "execution_count": 155
        }
      ],
      "source": [
        "import re\n",
        "import nltk\n",
        "import pandas as pd\n",
        "from nltk.corpus                         import stopwords\n",
        "from sklearn.feature_extraction.text     import TfidfVectorizer\n",
        "from sklearn.model_selection             import train_test_split\n",
        "from sklearn.neural_network              import MLPClassifier\n",
        "from sklearn.svm                         import SVC\n",
        "from sklearn.naive_bayes                 import GaussianNB\n",
        "from sklearn.metrics                     import confusion_matrix,classification_report\n",
        "from nltk.tokenize                       import word_tokenize\n",
        "from nltk.corpus                         import stopwords\n",
        "from nltk.stem                           import WordNetLemmatizer\n",
        "from sklearn.preprocessing               import LabelEncoder\n",
        "nltk.download('stopwords')"
      ]
    },
    {
      "cell_type": "markdown",
      "source": [
        "#**Business & Data Understanding**"
      ],
      "metadata": {
        "id": "-GAAv-pRn90h"
      }
    },
    {
      "cell_type": "code",
      "source": [
        "df=pd.read_csv(\"/content/bbc-text.csv\")\n",
        "df.head()"
      ],
      "metadata": {
        "colab": {
          "base_uri": "https://localhost:8080/",
          "height": 206
        },
        "id": "gMxzZ5Pkn0SM",
        "outputId": "8e1ebb25-1140-4aac-e119-d27051d05aab"
      },
      "execution_count": null,
      "outputs": [
        {
          "output_type": "execute_result",
          "data": {
            "text/plain": [
              "        category                                               text\n",
              "0           tech  tv future in the hands of viewers with home th...\n",
              "1       business  worldcom boss  left books alone  former worldc...\n",
              "2          sport  tigers wary of farrell  gamble  leicester say ...\n",
              "3          sport  yeading face newcastle in fa cup premiership s...\n",
              "4  entertainment  ocean s twelve raids box office ocean s twelve..."
            ],
            "text/html": [
              "\n",
              "  <div id=\"df-88d47055-07bf-455c-92ff-33ffd4d58a5d\" class=\"colab-df-container\">\n",
              "    <div>\n",
              "<style scoped>\n",
              "    .dataframe tbody tr th:only-of-type {\n",
              "        vertical-align: middle;\n",
              "    }\n",
              "\n",
              "    .dataframe tbody tr th {\n",
              "        vertical-align: top;\n",
              "    }\n",
              "\n",
              "    .dataframe thead th {\n",
              "        text-align: right;\n",
              "    }\n",
              "</style>\n",
              "<table border=\"1\" class=\"dataframe\">\n",
              "  <thead>\n",
              "    <tr style=\"text-align: right;\">\n",
              "      <th></th>\n",
              "      <th>category</th>\n",
              "      <th>text</th>\n",
              "    </tr>\n",
              "  </thead>\n",
              "  <tbody>\n",
              "    <tr>\n",
              "      <th>0</th>\n",
              "      <td>tech</td>\n",
              "      <td>tv future in the hands of viewers with home th...</td>\n",
              "    </tr>\n",
              "    <tr>\n",
              "      <th>1</th>\n",
              "      <td>business</td>\n",
              "      <td>worldcom boss  left books alone  former worldc...</td>\n",
              "    </tr>\n",
              "    <tr>\n",
              "      <th>2</th>\n",
              "      <td>sport</td>\n",
              "      <td>tigers wary of farrell  gamble  leicester say ...</td>\n",
              "    </tr>\n",
              "    <tr>\n",
              "      <th>3</th>\n",
              "      <td>sport</td>\n",
              "      <td>yeading face newcastle in fa cup premiership s...</td>\n",
              "    </tr>\n",
              "    <tr>\n",
              "      <th>4</th>\n",
              "      <td>entertainment</td>\n",
              "      <td>ocean s twelve raids box office ocean s twelve...</td>\n",
              "    </tr>\n",
              "  </tbody>\n",
              "</table>\n",
              "</div>\n",
              "    <div class=\"colab-df-buttons\">\n",
              "\n",
              "  <div class=\"colab-df-container\">\n",
              "    <button class=\"colab-df-convert\" onclick=\"convertToInteractive('df-88d47055-07bf-455c-92ff-33ffd4d58a5d')\"\n",
              "            title=\"Convert this dataframe to an interactive table.\"\n",
              "            style=\"display:none;\">\n",
              "\n",
              "  <svg xmlns=\"http://www.w3.org/2000/svg\" height=\"24px\" viewBox=\"0 -960 960 960\">\n",
              "    <path d=\"M120-120v-720h720v720H120Zm60-500h600v-160H180v160Zm220 220h160v-160H400v160Zm0 220h160v-160H400v160ZM180-400h160v-160H180v160Zm440 0h160v-160H620v160ZM180-180h160v-160H180v160Zm440 0h160v-160H620v160Z\"/>\n",
              "  </svg>\n",
              "    </button>\n",
              "\n",
              "  <style>\n",
              "    .colab-df-container {\n",
              "      display:flex;\n",
              "      gap: 12px;\n",
              "    }\n",
              "\n",
              "    .colab-df-convert {\n",
              "      background-color: #E8F0FE;\n",
              "      border: none;\n",
              "      border-radius: 50%;\n",
              "      cursor: pointer;\n",
              "      display: none;\n",
              "      fill: #1967D2;\n",
              "      height: 32px;\n",
              "      padding: 0 0 0 0;\n",
              "      width: 32px;\n",
              "    }\n",
              "\n",
              "    .colab-df-convert:hover {\n",
              "      background-color: #E2EBFA;\n",
              "      box-shadow: 0px 1px 2px rgba(60, 64, 67, 0.3), 0px 1px 3px 1px rgba(60, 64, 67, 0.15);\n",
              "      fill: #174EA6;\n",
              "    }\n",
              "\n",
              "    .colab-df-buttons div {\n",
              "      margin-bottom: 4px;\n",
              "    }\n",
              "\n",
              "    [theme=dark] .colab-df-convert {\n",
              "      background-color: #3B4455;\n",
              "      fill: #D2E3FC;\n",
              "    }\n",
              "\n",
              "    [theme=dark] .colab-df-convert:hover {\n",
              "      background-color: #434B5C;\n",
              "      box-shadow: 0px 1px 3px 1px rgba(0, 0, 0, 0.15);\n",
              "      filter: drop-shadow(0px 1px 2px rgba(0, 0, 0, 0.3));\n",
              "      fill: #FFFFFF;\n",
              "    }\n",
              "  </style>\n",
              "\n",
              "    <script>\n",
              "      const buttonEl =\n",
              "        document.querySelector('#df-88d47055-07bf-455c-92ff-33ffd4d58a5d button.colab-df-convert');\n",
              "      buttonEl.style.display =\n",
              "        google.colab.kernel.accessAllowed ? 'block' : 'none';\n",
              "\n",
              "      async function convertToInteractive(key) {\n",
              "        const element = document.querySelector('#df-88d47055-07bf-455c-92ff-33ffd4d58a5d');\n",
              "        const dataTable =\n",
              "          await google.colab.kernel.invokeFunction('convertToInteractive',\n",
              "                                                    [key], {});\n",
              "        if (!dataTable) return;\n",
              "\n",
              "        const docLinkHtml = 'Like what you see? Visit the ' +\n",
              "          '<a target=\"_blank\" href=https://colab.research.google.com/notebooks/data_table.ipynb>data table notebook</a>'\n",
              "          + ' to learn more about interactive tables.';\n",
              "        element.innerHTML = '';\n",
              "        dataTable['output_type'] = 'display_data';\n",
              "        await google.colab.output.renderOutput(dataTable, element);\n",
              "        const docLink = document.createElement('div');\n",
              "        docLink.innerHTML = docLinkHtml;\n",
              "        element.appendChild(docLink);\n",
              "      }\n",
              "    </script>\n",
              "  </div>\n",
              "\n",
              "\n",
              "<div id=\"df-947d66e7-4a45-4dff-868b-b1556e630e63\">\n",
              "  <button class=\"colab-df-quickchart\" onclick=\"quickchart('df-947d66e7-4a45-4dff-868b-b1556e630e63')\"\n",
              "            title=\"Suggest charts\"\n",
              "            style=\"display:none;\">\n",
              "\n",
              "<svg xmlns=\"http://www.w3.org/2000/svg\" height=\"24px\"viewBox=\"0 0 24 24\"\n",
              "     width=\"24px\">\n",
              "    <g>\n",
              "        <path d=\"M19 3H5c-1.1 0-2 .9-2 2v14c0 1.1.9 2 2 2h14c1.1 0 2-.9 2-2V5c0-1.1-.9-2-2-2zM9 17H7v-7h2v7zm4 0h-2V7h2v10zm4 0h-2v-4h2v4z\"/>\n",
              "    </g>\n",
              "</svg>\n",
              "  </button>\n",
              "\n",
              "<style>\n",
              "  .colab-df-quickchart {\n",
              "      --bg-color: #E8F0FE;\n",
              "      --fill-color: #1967D2;\n",
              "      --hover-bg-color: #E2EBFA;\n",
              "      --hover-fill-color: #174EA6;\n",
              "      --disabled-fill-color: #AAA;\n",
              "      --disabled-bg-color: #DDD;\n",
              "  }\n",
              "\n",
              "  [theme=dark] .colab-df-quickchart {\n",
              "      --bg-color: #3B4455;\n",
              "      --fill-color: #D2E3FC;\n",
              "      --hover-bg-color: #434B5C;\n",
              "      --hover-fill-color: #FFFFFF;\n",
              "      --disabled-bg-color: #3B4455;\n",
              "      --disabled-fill-color: #666;\n",
              "  }\n",
              "\n",
              "  .colab-df-quickchart {\n",
              "    background-color: var(--bg-color);\n",
              "    border: none;\n",
              "    border-radius: 50%;\n",
              "    cursor: pointer;\n",
              "    display: none;\n",
              "    fill: var(--fill-color);\n",
              "    height: 32px;\n",
              "    padding: 0;\n",
              "    width: 32px;\n",
              "  }\n",
              "\n",
              "  .colab-df-quickchart:hover {\n",
              "    background-color: var(--hover-bg-color);\n",
              "    box-shadow: 0 1px 2px rgba(60, 64, 67, 0.3), 0 1px 3px 1px rgba(60, 64, 67, 0.15);\n",
              "    fill: var(--button-hover-fill-color);\n",
              "  }\n",
              "\n",
              "  .colab-df-quickchart-complete:disabled,\n",
              "  .colab-df-quickchart-complete:disabled:hover {\n",
              "    background-color: var(--disabled-bg-color);\n",
              "    fill: var(--disabled-fill-color);\n",
              "    box-shadow: none;\n",
              "  }\n",
              "\n",
              "  .colab-df-spinner {\n",
              "    border: 2px solid var(--fill-color);\n",
              "    border-color: transparent;\n",
              "    border-bottom-color: var(--fill-color);\n",
              "    animation:\n",
              "      spin 1s steps(1) infinite;\n",
              "  }\n",
              "\n",
              "  @keyframes spin {\n",
              "    0% {\n",
              "      border-color: transparent;\n",
              "      border-bottom-color: var(--fill-color);\n",
              "      border-left-color: var(--fill-color);\n",
              "    }\n",
              "    20% {\n",
              "      border-color: transparent;\n",
              "      border-left-color: var(--fill-color);\n",
              "      border-top-color: var(--fill-color);\n",
              "    }\n",
              "    30% {\n",
              "      border-color: transparent;\n",
              "      border-left-color: var(--fill-color);\n",
              "      border-top-color: var(--fill-color);\n",
              "      border-right-color: var(--fill-color);\n",
              "    }\n",
              "    40% {\n",
              "      border-color: transparent;\n",
              "      border-right-color: var(--fill-color);\n",
              "      border-top-color: var(--fill-color);\n",
              "    }\n",
              "    60% {\n",
              "      border-color: transparent;\n",
              "      border-right-color: var(--fill-color);\n",
              "    }\n",
              "    80% {\n",
              "      border-color: transparent;\n",
              "      border-right-color: var(--fill-color);\n",
              "      border-bottom-color: var(--fill-color);\n",
              "    }\n",
              "    90% {\n",
              "      border-color: transparent;\n",
              "      border-bottom-color: var(--fill-color);\n",
              "    }\n",
              "  }\n",
              "</style>\n",
              "\n",
              "  <script>\n",
              "    async function quickchart(key) {\n",
              "      const quickchartButtonEl =\n",
              "        document.querySelector('#' + key + ' button');\n",
              "      quickchartButtonEl.disabled = true;  // To prevent multiple clicks.\n",
              "      quickchartButtonEl.classList.add('colab-df-spinner');\n",
              "      try {\n",
              "        const charts = await google.colab.kernel.invokeFunction(\n",
              "            'suggestCharts', [key], {});\n",
              "      } catch (error) {\n",
              "        console.error('Error during call to suggestCharts:', error);\n",
              "      }\n",
              "      quickchartButtonEl.classList.remove('colab-df-spinner');\n",
              "      quickchartButtonEl.classList.add('colab-df-quickchart-complete');\n",
              "    }\n",
              "    (() => {\n",
              "      let quickchartButtonEl =\n",
              "        document.querySelector('#df-947d66e7-4a45-4dff-868b-b1556e630e63 button');\n",
              "      quickchartButtonEl.style.display =\n",
              "        google.colab.kernel.accessAllowed ? 'block' : 'none';\n",
              "    })();\n",
              "  </script>\n",
              "</div>\n",
              "    </div>\n",
              "  </div>\n"
            ]
          },
          "metadata": {},
          "execution_count": 87
        }
      ]
    },
    {
      "cell_type": "code",
      "source": [
        "df.category.value_counts()"
      ],
      "metadata": {
        "colab": {
          "base_uri": "https://localhost:8080/"
        },
        "id": "5GdzTrZ6obNX",
        "outputId": "881861ad-2269-494e-89a6-3a161e58f7cf"
      },
      "execution_count": null,
      "outputs": [
        {
          "output_type": "execute_result",
          "data": {
            "text/plain": [
              "sport            511\n",
              "business         510\n",
              "politics         417\n",
              "tech             401\n",
              "entertainment    386\n",
              "Name: category, dtype: int64"
            ]
          },
          "metadata": {},
          "execution_count": 152
        }
      ]
    },
    {
      "cell_type": "code",
      "source": [
        "df.info()"
      ],
      "metadata": {
        "colab": {
          "base_uri": "https://localhost:8080/"
        },
        "id": "lldnYabFojwD",
        "outputId": "ce4188ff-9fd7-4a6f-f002-cf531c88166e"
      },
      "execution_count": null,
      "outputs": [
        {
          "output_type": "stream",
          "name": "stdout",
          "text": [
            "<class 'pandas.core.frame.DataFrame'>\n",
            "RangeIndex: 2225 entries, 0 to 2224\n",
            "Data columns (total 2 columns):\n",
            " #   Column    Non-Null Count  Dtype \n",
            "---  ------    --------------  ----- \n",
            " 0   category  2225 non-null   object\n",
            " 1   text      2225 non-null   object\n",
            "dtypes: object(2)\n",
            "memory usage: 34.9+ KB\n"
          ]
        }
      ]
    },
    {
      "cell_type": "markdown",
      "source": [
        "#**Data Preparation**"
      ],
      "metadata": {
        "id": "QP_E7TOkpQ-_"
      }
    },
    {
      "cell_type": "code",
      "source": [
        "features=df.iloc[:,1]\n",
        "labels=df.iloc[:,0]\n"
      ],
      "metadata": {
        "id": "qlQRx3zCW0no"
      },
      "execution_count": null,
      "outputs": []
    },
    {
      "cell_type": "markdown",
      "source": [
        "#**Data Cleaning**"
      ],
      "metadata": {
        "id": "HKhh96r1xVSn"
      }
    },
    {
      "cell_type": "code",
      "source": [
        "tidy_features = []\n",
        "for i in range(len(features)):\n",
        "  if isinstance(features[i], str):  # Check if it's a string\n",
        "        tmp = re.sub(r'[^a-zA-Z]', ' ', features[i])\n",
        "        tmp = re.sub(r'\\s[a-zA-Z]\\s', ' ', tmp)\n",
        "        tmp = re.sub(r'\\s+', ' ', tmp)\n",
        "        tmp = tmp.lower()\n",
        "        tidy_features.append(tmp)\n",
        "\n",
        "\n",
        "print(\"******** Before **********\")\n",
        "print(features[0:4])\n",
        "print(\"******** After **********\")\n",
        "print(tidy_features[0:4])\n"
      ],
      "metadata": {
        "colab": {
          "base_uri": "https://localhost:8080/"
        },
        "id": "n3de2ZaBunsE",
        "outputId": "e8e81e17-7985-490d-d111-db531f89e66b"
      },
      "execution_count": null,
      "outputs": [
        {
          "output_type": "stream",
          "name": "stdout",
          "text": [
            "******** Before **********\n",
            "0    tv future in the hands of viewers with home th...\n",
            "1    worldcom boss  left books alone  former worldc...\n",
            "2    tigers wary of farrell  gamble  leicester say ...\n",
            "3    yeading face newcastle in fa cup premiership s...\n",
            "Name: text, dtype: object\n",
            "******** After **********\n",
            "['tv future in the hands of viewers with home theatre systems plasma high definition tvs and digital video recorders moving into the living room the way people watch tv will be radically different in five years time that is according to an expert panel which gathered at the annual consumer electronics show in las vegas to discuss how these new technologies will impact one of our favourite pastimes with the us leading the trend programmes and other content will be delivered to viewers via home networks through cable satellite telecoms companies and broadband service providers to front rooms and portable devices one of the most talked about technologies of ces has been digital and personal video recorders dvr and pvr these set top boxes like the us tivo and the uk sky system allow people to record store play pause and forward wind tv programmes when they want essentially the technology allows for much more personalised tv they are also being built in to high definition tv sets which are big business in japan and the us but slower to take off in europe because of the lack of high definition programming not only can people forward wind through adverts they can also forget about abiding by network and channel schedules putting together their own la carte entertainment but some us networks and cable and satellite companies are worried about what it means for them in terms of advertising revenues as well as brand identity and viewer loyalty to channels although the us leads in this technology at the moment it is also concern that is being raised in europe particularly with the growing uptake of services like sky what happens here today we will see in nine months to years time in the uk adam hume the bbc broadcast futurologist told the bbc news website for the likes of the bbc there are no issues of lost advertising revenue yet it is more pressing issue at the moment for commercial uk broadcasters but brand loyalty is important for everyone we will be talking more about content brands rather than network brands said tim hanlon from brand communications firm starcom mediavest the reality is that with broadband connections anybody can be the producer of content he added the challenge now is that it is hard to promote programme with so much choice what this means said stacey jolna senior vice president of tv guide tv group is that the way people find the content they want to watch has to be simplified for tv viewers it means that networks in us terms or channels could take leaf out of google book and be the search engine of the future instead of the scheduler to help people find what they want to watch this kind of channel model might work for the younger ipod generation which is used to taking control of their gadgets and what they play on them but it might not suit everyone the panel recognised older generations are more comfortable with familiar schedules and channel brands because they know what they are getting they perhaps do not want so much of the choice put into their hands mr hanlon suggested on the other end you have the kids just out of diapers who are pushing buttons already everything is possible and available to them said mr hanlon ultimately the consumer will tell the market they want of the new gadgets and technologies being showcased at ces many of them are about enhancing the tv watching experience high definition tv sets are everywhere and many new models of lcd liquid crystal display tvs have been launched with dvr capability built into them instead of being external boxes one such example launched at the show is humax inch lcd tv with an hour tivo dvr and dvd recorder one of the us biggest satellite tv companies directtv has even launched its own branded dvr at the show with hours of recording capability instant replay and search function the set can pause and rewind tv for up to hours and microsoft chief bill gates announced in his pre show keynote speech partnership with tivo called tivotogo which means people can play recorded programmes on windows pcs and mobile devices all these reflect the increasing trend of freeing up multimedia so that people can watch what they want when they want ', 'worldcom boss left books alone former worldcom boss bernie ebbers who is accused of overseeing an bn bn fraud never made accounting decisions witness has told jurors david myers made the comments under questioning by defence lawyers who have been arguing that mr ebbers was not responsible for worldcom problems the phone company collapsed in and prosecutors claim that losses were hidden to protect the firm shares mr myers has already pleaded guilty to fraud and is assisting prosecutors on monday defence lawyer reid weingarten tried to distance his client from the allegations during cross examination he asked mr myers if he ever knew mr ebbers make an accounting decision not that am aware of mr myers replied did you ever know mr ebbers to make an accounting entry into worldcom books mr weingarten pressed no replied the witness mr myers has admitted that he ordered false accounting entries at the request of former worldcom chief financial officer scott sullivan defence lawyers have been trying to paint mr sullivan who has admitted fraud and will testify later in the trial as the mastermind behind worldcom accounting house of cards mr ebbers team meanwhile are looking to portray him as an affable boss who by his own admission is more pe graduate than economist whatever his abilities mr ebbers transformed worldcom from relative unknown into bn telecoms giant and investor darling of the late worldcom problems mounted however as competition increased and the telecoms boom petered out when the firm finally collapsed shareholders lost about bn and workers lost their jobs mr ebbers trial is expected to last two months and if found guilty the former ceo faces substantial jail sentence he has firmly declared his innocence ', 'tigers wary of farrell gamble leicester say they will not be rushed into making bid for andy farrell should the great britain rugby league captain decide to switch codes we and anybody else involved in the process are still some way away from going to the next stage tigers boss john wells told bbc radio leicester at the moment there are still lot of unknowns about andy farrell not least his medical situation whoever does take him on is going to take big big gamble farrell who has had persistent knee problems had an operation on his knee five weeks ago and is expected to be out for another three months leicester and saracens are believed to head the list of rugby union clubs interested in signing farrell if he decides to move to the man game if he does move across to union wells believes he would better off playing in the backs at least initially m sure he could make the step between league and union by being involved in the centre said wells think england would prefer him to progress to position in the back row where they can make use of some of his rugby league skills within the forwards the jury is out on whether he can cross that divide at this club the balance will have to be struck between the cost of that gamble and the option of bringing in ready made replacement ', 'yeading face newcastle in fa cup premiership side newcastle united face trip to ryman premier league leaders yeading in the fa cup third round the game arguably the highlight of the draw is potential money spinner for non league yeading who beat slough in the second round conference side exeter city who knocked out doncaster on saturday will travel to old trafford to meet holders manchester united in january arsenal were drawn at home to stoke and chelsea will play host to scunthorpe the only other non league side in the draw are hinckley united who held brentford to goalless draw on sunday they will meet league one leaders luton if they win their replay against martin allen team at griffin park number of premiership teams face difficult away games against championship sides on the weekend of january third placed everton visit plymouth liverpool travel to burnley crystal palace go to sunderland fulham face carling cup semi finalists watford bolton meet ipswich while aston villa were drawn against sheffield united premiership strugglers norwich blackburn west brom are away at west ham cardiff and preston north end respectively southampton visit northampton having already beaten the league two side in the carling cup earlier this season middlesbrough were drawn away against either swindon or notts county while spurs entertain brighton at white hart lane arsenal stoke swindon notts co middlesbrough man utd exeter plymouth everton leicester blackpool derby wigan sunderland crystal palace wolves millwall yeading newcastle hull colchester tottenham brighton reading stockport swansea birmingham leeds hartlepool boston milton keynes dons peterborough oldham man city chelsea scunthorpe cardiff blackburn charlton rochdale west ham norwich sheff utd aston villa preston west brom rotherham yeovil burnley liverpool bournemouth chester coventry crewe watford fulham ipswich bolton portsmouth gillingham northampton southampton qpr nottm forest luton hinckley brentford matches to be played on weekend of january ']\n"
          ]
        }
      ]
    },
    {
      "cell_type": "markdown",
      "source": [
        "***Word Embedding***"
      ],
      "metadata": {
        "id": "HuevnsKJa0hN"
      }
    },
    {
      "cell_type": "code",
      "source": [
        "vectorizer=TfidfVectorizer(max_features=2000,min_df=7,max_df=0.8,stop_words=stopwords.words('english'))\n",
        "X=vectorizer.fit_transform(tidy_features).toarray()\n",
        "X"
      ],
      "metadata": {
        "colab": {
          "base_uri": "https://localhost:8080/"
        },
        "id": "vmNdqekqZ8_J",
        "outputId": "4b812dd7-0067-46d5-a0b0-0b98c946aaff"
      },
      "execution_count": null,
      "outputs": [
        {
          "output_type": "execute_result",
          "data": {
            "text/plain": [
              "array([[0., 0., 0., ..., 0., 0., 0.],\n",
              "       [0., 0., 0., ..., 0., 0., 0.],\n",
              "       [0., 0., 0., ..., 0., 0., 0.],\n",
              "       ...,\n",
              "       [0., 0., 0., ..., 0., 0., 0.],\n",
              "       [0., 0., 0., ..., 0., 0., 0.],\n",
              "       [0., 0., 0., ..., 0., 0., 0.]])"
            ]
          },
          "metadata": {},
          "execution_count": 91
        }
      ]
    },
    {
      "cell_type": "markdown",
      "source": [
        "***Data split***"
      ],
      "metadata": {
        "id": "kEPU-xagbJ6w"
      }
    },
    {
      "cell_type": "code",
      "source": [
        "X_train,X_test,y_train,y_test=train_test_split(X,labels,test_size=0.2)"
      ],
      "metadata": {
        "id": "BOAW6xVYOac7"
      },
      "execution_count": null,
      "outputs": []
    },
    {
      "cell_type": "code",
      "source": [
        "gnb = GaussianNB()\n",
        "linear_svm = SVC(kernel='linear')\n",
        "rbf_svm = SVC(kernel='rbf')\n",
        "sigmoid_svm = SVC(kernel='sigmoid')\n",
        "poly_svm = SVC(kernel='poly', degree=2)\n",
        "neural = MLPClassifier(hidden_layer_sizes=(100, 20), activation='logistic', solver='adam')"
      ],
      "metadata": {
        "id": "qv6by7FJbjmu"
      },
      "execution_count": null,
      "outputs": []
    },
    {
      "cell_type": "code",
      "source": [
        "gnb.fit(X_train,y_train) # Train Guassian NB classifier\n",
        "linear_svm.fit(X_train,y_train) # Train SVM\n",
        "rbf_svm.fit(X_train,y_train)\n",
        "sigmoid_svm.fit(X_train,y_train)\n",
        "ploy_svm.fit(X_train,y_train)\n",
        "neural.fit(X_train,y_train) # Train Neural Network - finding the best weight matrix"
      ],
      "metadata": {
        "colab": {
          "base_uri": "https://localhost:8080/",
          "height": 75
        },
        "id": "RHGJFZyLcex1",
        "outputId": "d0ddf9c0-278a-4050-cdcf-68d3eda0cf03"
      },
      "execution_count": null,
      "outputs": [
        {
          "output_type": "execute_result",
          "data": {
            "text/plain": [
              "MLPClassifier(activation='logistic', hidden_layer_sizes=(100, 20))"
            ],
            "text/html": [
              "<style>#sk-container-id-5 {color: black;background-color: white;}#sk-container-id-5 pre{padding: 0;}#sk-container-id-5 div.sk-toggleable {background-color: white;}#sk-container-id-5 label.sk-toggleable__label {cursor: pointer;display: block;width: 100%;margin-bottom: 0;padding: 0.3em;box-sizing: border-box;text-align: center;}#sk-container-id-5 label.sk-toggleable__label-arrow:before {content: \"▸\";float: left;margin-right: 0.25em;color: #696969;}#sk-container-id-5 label.sk-toggleable__label-arrow:hover:before {color: black;}#sk-container-id-5 div.sk-estimator:hover label.sk-toggleable__label-arrow:before {color: black;}#sk-container-id-5 div.sk-toggleable__content {max-height: 0;max-width: 0;overflow: hidden;text-align: left;background-color: #f0f8ff;}#sk-container-id-5 div.sk-toggleable__content pre {margin: 0.2em;color: black;border-radius: 0.25em;background-color: #f0f8ff;}#sk-container-id-5 input.sk-toggleable__control:checked~div.sk-toggleable__content {max-height: 200px;max-width: 100%;overflow: auto;}#sk-container-id-5 input.sk-toggleable__control:checked~label.sk-toggleable__label-arrow:before {content: \"▾\";}#sk-container-id-5 div.sk-estimator input.sk-toggleable__control:checked~label.sk-toggleable__label {background-color: #d4ebff;}#sk-container-id-5 div.sk-label input.sk-toggleable__control:checked~label.sk-toggleable__label {background-color: #d4ebff;}#sk-container-id-5 input.sk-hidden--visually {border: 0;clip: rect(1px 1px 1px 1px);clip: rect(1px, 1px, 1px, 1px);height: 1px;margin: -1px;overflow: hidden;padding: 0;position: absolute;width: 1px;}#sk-container-id-5 div.sk-estimator {font-family: monospace;background-color: #f0f8ff;border: 1px dotted black;border-radius: 0.25em;box-sizing: border-box;margin-bottom: 0.5em;}#sk-container-id-5 div.sk-estimator:hover {background-color: #d4ebff;}#sk-container-id-5 div.sk-parallel-item::after {content: \"\";width: 100%;border-bottom: 1px solid gray;flex-grow: 1;}#sk-container-id-5 div.sk-label:hover label.sk-toggleable__label {background-color: #d4ebff;}#sk-container-id-5 div.sk-serial::before {content: \"\";position: absolute;border-left: 1px solid gray;box-sizing: border-box;top: 0;bottom: 0;left: 50%;z-index: 0;}#sk-container-id-5 div.sk-serial {display: flex;flex-direction: column;align-items: center;background-color: white;padding-right: 0.2em;padding-left: 0.2em;position: relative;}#sk-container-id-5 div.sk-item {position: relative;z-index: 1;}#sk-container-id-5 div.sk-parallel {display: flex;align-items: stretch;justify-content: center;background-color: white;position: relative;}#sk-container-id-5 div.sk-item::before, #sk-container-id-5 div.sk-parallel-item::before {content: \"\";position: absolute;border-left: 1px solid gray;box-sizing: border-box;top: 0;bottom: 0;left: 50%;z-index: -1;}#sk-container-id-5 div.sk-parallel-item {display: flex;flex-direction: column;z-index: 1;position: relative;background-color: white;}#sk-container-id-5 div.sk-parallel-item:first-child::after {align-self: flex-end;width: 50%;}#sk-container-id-5 div.sk-parallel-item:last-child::after {align-self: flex-start;width: 50%;}#sk-container-id-5 div.sk-parallel-item:only-child::after {width: 0;}#sk-container-id-5 div.sk-dashed-wrapped {border: 1px dashed gray;margin: 0 0.4em 0.5em 0.4em;box-sizing: border-box;padding-bottom: 0.4em;background-color: white;}#sk-container-id-5 div.sk-label label {font-family: monospace;font-weight: bold;display: inline-block;line-height: 1.2em;}#sk-container-id-5 div.sk-label-container {text-align: center;}#sk-container-id-5 div.sk-container {/* jupyter's `normalize.less` sets `[hidden] { display: none; }` but bootstrap.min.css set `[hidden] { display: none !important; }` so we also need the `!important` here to be able to override the default hidden behavior on the sphinx rendered scikit-learn.org. See: https://github.com/scikit-learn/scikit-learn/issues/21755 */display: inline-block !important;position: relative;}#sk-container-id-5 div.sk-text-repr-fallback {display: none;}</style><div id=\"sk-container-id-5\" class=\"sk-top-container\"><div class=\"sk-text-repr-fallback\"><pre>MLPClassifier(activation=&#x27;logistic&#x27;, hidden_layer_sizes=(100, 20))</pre><b>In a Jupyter environment, please rerun this cell to show the HTML representation or trust the notebook. <br />On GitHub, the HTML representation is unable to render, please try loading this page with nbviewer.org.</b></div><div class=\"sk-container\" hidden><div class=\"sk-item\"><div class=\"sk-estimator sk-toggleable\"><input class=\"sk-toggleable__control sk-hidden--visually\" id=\"sk-estimator-id-5\" type=\"checkbox\" checked><label for=\"sk-estimator-id-5\" class=\"sk-toggleable__label sk-toggleable__label-arrow\">MLPClassifier</label><div class=\"sk-toggleable__content\"><pre>MLPClassifier(activation=&#x27;logistic&#x27;, hidden_layer_sizes=(100, 20))</pre></div></div></div></div></div>"
            ]
          },
          "metadata": {},
          "execution_count": 121
        }
      ]
    },
    {
      "cell_type": "code",
      "source": [
        "y_nb=gnb.predict(X_test)\n",
        "y_linear_svm=linear_svm.predict(X_test)\n",
        "y_rbf_svm=rbf_svm.predict(X_test)\n",
        "y_ploy_svm=ploy_svm.predict(X_test)\n",
        "y_sigmoid_svm=sigmoid_svm.predict(X_test)\n",
        "y_neural=neural.predict(X_test)"
      ],
      "metadata": {
        "id": "-6zBQIjZiYZw"
      },
      "execution_count": null,
      "outputs": []
    },
    {
      "cell_type": "code",
      "source": [
        "from sklearn.metrics import classification_report\n",
        "\n",
        "# Assuming 'y_test_new' is the true labels for the new data\n",
        "\n",
        "# Evaluate Gaussian Naive Bayes\n",
        "print(\"Gaussian NB Classifier:\")\n",
        "print(classification_report(y_test, y_nb))\n",
        "\n",
        "# Evaluate Linear SVM\n",
        "print(\"Linear SVM:\")\n",
        "print(classification_report(y_test, y_linear_svm))\n",
        "\n",
        "# Evaluate SVM with RBF kernel\n",
        "print(\"SVM with RBF Kernel:\")\n",
        "print(classification_report(y_test, y_rbf_svm))\n",
        "\n",
        "# Evaluate SVM with sigmoid kernel\n",
        "print(\"SVM with Sigmoid Kernel:\")\n",
        "print(classification_report(y_test, y_sigmoid_svm))\n",
        "\n",
        "# Evaluate SVM with polynomial kernel\n",
        "print(\"SVM with Polynomial Kernel:\")\n",
        "print(classification_report(y_test, y_ploy_svm))\n",
        "\n",
        "# Evaluate Neural Network\n",
        "print(\"Neural Network:\")\n",
        "print(classification_report(y_test,y_neural))\n",
        "\n"
      ],
      "metadata": {
        "colab": {
          "base_uri": "https://localhost:8080/"
        },
        "id": "B47Tn_CeeNsd",
        "outputId": "9e961e7a-500b-4731-f7d9-e88e6d175a9a"
      },
      "execution_count": null,
      "outputs": [
        {
          "output_type": "stream",
          "name": "stdout",
          "text": [
            "Gaussian NB Classifier:\n",
            "               precision    recall  f1-score   support\n",
            "\n",
            "     business       0.94      0.85      0.89       112\n",
            "entertainment       0.96      0.89      0.92        79\n",
            "     politics       0.91      0.91      0.91        87\n",
            "        sport       0.99      0.95      0.97        91\n",
            "         tech       0.75      0.96      0.84        76\n",
            "\n",
            "     accuracy                           0.91       445\n",
            "    macro avg       0.91      0.91      0.91       445\n",
            " weighted avg       0.92      0.91      0.91       445\n",
            "\n",
            "Linear SVM:\n",
            "               precision    recall  f1-score   support\n",
            "\n",
            "     business       0.97      0.95      0.96       112\n",
            "entertainment       0.96      1.00      0.98        79\n",
            "     politics       0.98      0.95      0.97        87\n",
            "        sport       1.00      1.00      1.00        91\n",
            "         tech       0.95      0.97      0.96        76\n",
            "\n",
            "     accuracy                           0.97       445\n",
            "    macro avg       0.97      0.97      0.97       445\n",
            " weighted avg       0.97      0.97      0.97       445\n",
            "\n",
            "SVM with RBF Kernel:\n",
            "               precision    recall  f1-score   support\n",
            "\n",
            "     business       0.95      0.94      0.95       112\n",
            "entertainment       0.98      1.00      0.99        79\n",
            "     politics       0.96      0.94      0.95        87\n",
            "        sport       1.00      1.00      1.00        91\n",
            "         tech       0.95      0.97      0.96        76\n",
            "\n",
            "     accuracy                           0.97       445\n",
            "    macro avg       0.97      0.97      0.97       445\n",
            " weighted avg       0.97      0.97      0.97       445\n",
            "\n",
            "SVM with Sigmoid Kernel:\n",
            "               precision    recall  f1-score   support\n",
            "\n",
            "     business       0.97      0.95      0.96       112\n",
            "entertainment       0.96      1.00      0.98        79\n",
            "     politics       0.98      0.95      0.97        87\n",
            "        sport       1.00      1.00      1.00        91\n",
            "         tech       0.95      0.97      0.96        76\n",
            "\n",
            "     accuracy                           0.97       445\n",
            "    macro avg       0.97      0.97      0.97       445\n",
            " weighted avg       0.97      0.97      0.97       445\n",
            "\n",
            "SVM with Polynomial Kernel:\n",
            "               precision    recall  f1-score   support\n",
            "\n",
            "     business       0.95      0.95      0.95       112\n",
            "entertainment       0.99      1.00      0.99        79\n",
            "     politics       0.96      0.94      0.95        87\n",
            "        sport       1.00      1.00      1.00        91\n",
            "         tech       0.95      0.97      0.96        76\n",
            "\n",
            "     accuracy                           0.97       445\n",
            "    macro avg       0.97      0.97      0.97       445\n",
            " weighted avg       0.97      0.97      0.97       445\n",
            "\n",
            "Neural Network:\n",
            "               precision    recall  f1-score   support\n",
            "\n",
            "     business       0.97      0.96      0.97       112\n",
            "entertainment       0.98      1.00      0.99        79\n",
            "     politics       0.96      0.94      0.95        87\n",
            "        sport       1.00      0.99      0.99        91\n",
            "         tech       0.95      0.97      0.96        76\n",
            "\n",
            "     accuracy                           0.97       445\n",
            "    macro avg       0.97      0.97      0.97       445\n",
            " weighted avg       0.97      0.97      0.97       445\n",
            "\n"
          ]
        }
      ]
    },
    {
      "cell_type": "code",
      "source": [
        "import pickle\n",
        "\n",
        "iasria_vect=pickle.dump(vectorizer,open(\"iasria_vect.pickle\",'wb'))\n",
        "iasria_model=pickle.dump(neural,open(\"iasria_model.pickle\",'wb'))"
      ],
      "metadata": {
        "id": "X4RXQ6kxjWum"
      },
      "execution_count": null,
      "outputs": []
    },
    {
      "cell_type": "code",
      "source": [
        "import pickle\n",
        "import re\n",
        "\n",
        "# Load the models\n",
        "loaded_vectorizer = pickle.load(open(\"iasria_vect.pickle\", 'rb'))\n",
        "loaded_neural_model = pickle.load(open(\"iasria_model.pickle\", 'rb'))\n",
        "\n",
        "# Preprocess the input text\n",
        "def preprocess_data(text):\n",
        "    tidy_features = []\n",
        "    if isinstance(text, str):  # Check if it's a string\n",
        "        # Process the entire text as a single string\n",
        "        tmp = re.sub(r'[^a-zA-Z]', ' ', text)\n",
        "        tmp = re.sub(r'\\s[a-zA-Z]\\s', ' ', tmp)\n",
        "        tmp = re.sub(r'\\s+', ' ', tmp)\n",
        "        tmp = tmp.lower()\n",
        "        tidy_features.append(tmp)\n",
        "    return tidy_features\n",
        "\n",
        "# Input text\n",
        "input_text = \"business\"\n",
        "\n",
        "# Preprocess and vectorize the input text\n",
        "processed_input = preprocess_data(input_text)\n",
        "input_features = loaded_vectorizer.transform(processed_input).toarray()\n",
        "\n",
        "# Make predictions\n",
        "predictions = loaded_neural_model.predict(input_features)\n",
        "\n",
        "# Display the result\n",
        "print(f\"Predicted Category: {predictions[0]}\")\n",
        "\n"
      ],
      "metadata": {
        "colab": {
          "base_uri": "https://localhost:8080/"
        },
        "id": "Z_BSUuy9kQN-",
        "outputId": "5dd31ef8-e0e2-4537-bdf7-b243927648a2"
      },
      "execution_count": null,
      "outputs": [
        {
          "output_type": "stream",
          "name": "stdout",
          "text": [
            "Predicted Category: business\n"
          ]
        }
      ]
    }
  ]
}